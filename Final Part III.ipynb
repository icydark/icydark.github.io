{
 "cells": [
  {
   "cell_type": "code",
   "execution_count": 1,
   "id": "subsequent-emission",
   "metadata": {},
   "outputs": [],
   "source": [
    "import pandas as pd\n",
    "import numpy as np\n",
    "import matplotlib.pyplot as plt\n",
    "import geopandas\n",
    "import contextily as ctx"
   ]
  },
  {
   "cell_type": "code",
   "execution_count": 4,
   "id": "bibliographic-barrel",
   "metadata": {},
   "outputs": [],
   "source": [
    "data_gdf = geopandas.read_file('earthquake.geojson') #geojson file\n",
    "data_gdf = data_gdf.dropna(subset=['geometry'])"
   ]
  },
  {
   "cell_type": "code",
   "execution_count": 5,
   "id": "cardiovascular-composite",
   "metadata": {},
   "outputs": [],
   "source": [
    "import ipywidgets\n",
    "from IPython.display import display"
   ]
  },
  {
   "cell_type": "code",
   "execution_count": 12,
   "id": "endless-procedure",
   "metadata": {},
   "outputs": [],
   "source": [
    "xrange = ipywidgets.FloatRangeSlider(min=-125, max=-65.07, description='longitude: ')\n",
    "yrange = ipywidgets.FloatRangeSlider(min=24.61, max=49.96, description='latitude: ')"
   ]
  },
  {
   "cell_type": "code",
   "execution_count": 13,
   "id": "typical-mother",
   "metadata": {},
   "outputs": [],
   "source": [
    "filter_box = ipywidgets.BoundedFloatText(\n",
    "    value=4.5,\n",
    "    min=4.5,\n",
    "    max=7.5,\n",
    "    step=0.1,\n",
    "    description='Magnitude:',\n",
    "    disabled=False\n",
    ")"
   ]
  },
  {
   "cell_type": "code",
   "execution_count": 14,
   "id": "final-playlist",
   "metadata": {},
   "outputs": [
    {
     "data": {
      "application/vnd.jupyter.widget-view+json": {
       "model_id": "58492d09234043718da98d09636a675f",
       "version_major": 2,
       "version_minor": 0
      },
      "text/plain": [
       "RadioButtons(description='Classifier:', options=('Magnitude', 'Event Type', 'Magnitude Type'), value='Magnitud…"
      ]
     },
     "metadata": {},
     "output_type": "display_data"
    }
   ],
   "source": [
    "selection_box = ipywidgets.RadioButtons(\n",
    "    options=['Magnitude', 'Event Type', 'Magnitude Type'],\n",
    "    value='Magnitude',\n",
    "    description='Classifier:',\n",
    "    disabled=False\n",
    ")\n",
    "selection_box"
   ]
  },
  {
   "cell_type": "code",
   "execution_count": 15,
   "id": "micro-optics",
   "metadata": {},
   "outputs": [],
   "source": [
    "rangeBox = ipywidgets.VBox([xrange, yrange])"
   ]
  },
  {
   "cell_type": "code",
   "execution_count": 21,
   "id": "superior-round",
   "metadata": {},
   "outputs": [],
   "source": [
    "titles=['Classifier', 'Magnitude Filter', 'Range Setter']\n",
    "children=[selection_box, filter_box, rangeBox]\n",
    "tab = ipywidgets.Tab()\n",
    "tab.children = children\n",
    "for i, item in enumerate(titles):\n",
    "    tab.set_title(i, item)"
   ]
  },
  {
   "cell_type": "code",
   "execution_count": 22,
   "id": "unique-blast",
   "metadata": {},
   "outputs": [
    {
     "data": {
      "application/vnd.jupyter.widget-view+json": {
       "model_id": "045cd4ed1d374d9d807d8d8e5ba2196a",
       "version_major": 2,
       "version_minor": 0
      },
      "text/plain": [
       "Output()"
      ]
     },
     "metadata": {},
     "output_type": "display_data"
    },
    {
     "data": {
      "application/vnd.jupyter.widget-view+json": {
       "model_id": "e397cad0d08b4a53b30af11b2eb7727e",
       "version_major": 2,
       "version_minor": 0
      },
      "text/plain": [
       "Tab(children=(RadioButtons(description='Classifier:', options=('Magnitude', 'Event Type', 'Magnitude Type'), v…"
      ]
     },
     "metadata": {},
     "output_type": "display_data"
    }
   ],
   "source": [
    "def my_plot(present_method, user_mag, xlim, ylim):\n",
    "    subset_gdf = data_gdf.loc[data_gdf['mag']>=user_mag]\n",
    "    \n",
    "    fig, ax = plt.subplots(figsize=(15,5))\n",
    "    \n",
    "    ax.set_xlim(xlim[0], xlim[1])\n",
    "    ax.set_ylim(ylim[0], ylim[1])\n",
    "    \n",
    "    if present_method == 'Magnitude':\n",
    "        subset_gdf.plot(column='mag', cmap='Reds', legend=True, ax=ax, alpha=0.5, edgecolor='k')\n",
    "    elif present_method == 'Event Type':\n",
    "        subset_gdf.plot(column='type', cmap='rainbow', legend=True, ax=ax, alpha=0.5, edgecolor='k')\n",
    "    elif present_method == 'Magnitude Type':\n",
    "        subset_gdf.plot(column='magType', cmap='rainbow', legend=True, ax=ax, alpha=0.5, edgecolor='k')\n",
    "\n",
    "    ctx.add_basemap(ax=ax, crs=data_gdf.crs)\n",
    "    plt.show()\n",
    "\n",
    "\n",
    "out = ipywidgets.interactive_output(my_plot, {'present_method': selection_box, \n",
    "                                           'user_mag': filter_box, \n",
    "                                           'xlim': xrange,\n",
    "                                           'ylim': yrange})\n",
    "\n",
    "display(out, tab)"
   ]
  },
  {
   "cell_type": "code",
   "execution_count": 25,
   "id": "friendly-substance",
   "metadata": {},
   "outputs": [],
   "source": [
    "from ipywidgets.embed import embed_minimal_html"
   ]
  },
  {
   "cell_type": "code",
   "execution_count": 26,
   "id": "straight-dining",
   "metadata": {},
   "outputs": [],
   "source": []
  },
  {
   "cell_type": "code",
   "execution_count": null,
   "id": "signed-bernard",
   "metadata": {},
   "outputs": [],
   "source": []
  }
 ],
 "metadata": {
  "kernelspec": {
   "display_name": "Python 3",
   "language": "python",
   "name": "python3"
  },
  "language_info": {
   "codemirror_mode": {
    "name": "ipython",
    "version": 3
   },
   "file_extension": ".py",
   "mimetype": "text/x-python",
   "name": "python",
   "nbconvert_exporter": "python",
   "pygments_lexer": "ipython3",
   "version": "3.7.9"
  }
 },
 "nbformat": 4,
 "nbformat_minor": 5
}
