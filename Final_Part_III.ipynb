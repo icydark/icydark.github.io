{
 "cells": [
  {
   "cell_type": "code",
   "execution_count": 1,
   "id": "convenient-nudist",
   "metadata": {
    "slideshow": {
     "slide_type": "-"
    }
   },
   "outputs": [],
   "source": [
    "# HIDDEN\n",
    "import pandas as pd\n",
    "import numpy as np\n",
    "import bqplot\n",
    "import matplotlib.pyplot as plt\n",
    "import geopandas\n",
    "import contextily as ctx"
   ]
  },
  {
   "cell_type": "code",
   "execution_count": 2,
   "id": "dangerous-officer",
   "metadata": {
    "slideshow": {
     "slide_type": "-"
    }
   },
   "outputs": [],
   "source": [
    "# HIDDEN\n",
    "data_gdf = geopandas.read_file('earthquake.geojson') #geojson file\n",
    "data_gdf = data_gdf.dropna(subset=['geometry'])"
   ]
  },
  {
   "cell_type": "code",
   "execution_count": 3,
   "id": "lesbian-assault",
   "metadata": {
    "slideshow": {
     "slide_type": "-"
    }
   },
   "outputs": [],
   "source": [
    "# HIDDEN\n",
    "import ipywidgets\n",
    "from IPython.display import display"
   ]
  },
  {
   "cell_type": "code",
   "execution_count": 4,
   "id": "honey-professor",
   "metadata": {
    "slideshow": {
     "slide_type": "-"
    }
   },
   "outputs": [],
   "source": [
    "# HIDDEN\n",
    "xrange = ipywidgets.FloatRangeSlider(min=-125, max=-65.07, value=[-125, -65.07], description='longitude: ')\n",
    "yrange = ipywidgets.FloatRangeSlider(min=24.61, max=49.96, value=[24.61, 49.96], description='latitude: ')\n",
    "range_box = ipywidgets.VBox([xrange, yrange])"
   ]
  },
  {
   "cell_type": "code",
   "execution_count": 5,
   "id": "viral-roberts",
   "metadata": {
    "slideshow": {
     "slide_type": "-"
    }
   },
   "outputs": [],
   "source": [
    "# HIDDEN\n",
    "filter_box = ipywidgets.BoundedFloatText(\n",
    "    value=4.5,\n",
    "    min=4.5,\n",
    "    max=7.5,\n",
    "    step=0.1,\n",
    "    description='Magnitude:',\n",
    "    disabled=False\n",
    ")"
   ]
  },
  {
   "cell_type": "code",
   "execution_count": 6,
   "id": "individual-chuck",
   "metadata": {},
   "outputs": [],
   "source": [
    "# HIDDEN\n",
    "selection_box = ipywidgets.RadioButtons(\n",
    "    options=['Magnitude', 'Event Type', 'Magnitude Type'],\n",
    "    value='Magnitude',\n",
    "    description='Classifier:',\n",
    "    disabled=False\n",
    ")"
   ]
  },
  {
   "cell_type": "code",
   "execution_count": 7,
   "id": "cubic-athletics",
   "metadata": {},
   "outputs": [],
   "source": [
    "# HIDDEN\n",
    "titles=['Classifier', 'Magnitude Filter', 'Range Setter']\n",
    "children=[selection_box, filter_box, range_box]\n",
    "tab = ipywidgets.Tab()\n",
    "tab.children = children\n",
    "for i, item in enumerate(titles):\n",
    "    tab.set_title(i, item)"
   ]
  },
  {
   "cell_type": "markdown",
   "id": "spiritual-cabin",
   "metadata": {},
   "source": [
    "# Data Viz-455  Final Project \n",
    "### <ul> <li>Author: Xinyu Huang</li> <br> <li>Theme: Earthquake Data</li> </ul>"
   ]
  },
  {
   "cell_type": "markdown",
   "id": "toxic-completion",
   "metadata": {},
   "source": [
    "## About the Data\n",
    "\n",
    "This visulization helps users discovering a subset of the earthquake data derives from USGS (United States Geological Survey) website (www.usgs.gov).\n",
    "\n",
    "The dataset performed in this project is a query of the earthquake part of USGS. Some APIs are provided for users to query the data with certain conditions (time, magnitude and region, etc.) on the [search page](https://earthquake.usgs.gov/earthquakes/search/). This dataset includes the data of the earthquakes over 4.5 magnitude from 1950 to today in the [conterminous U.S. region](https://en.wikipedia.org/wiki/Contiguous_United_States). \n",
    "\n",
    "There are overall 2543 records in this dataset. Each record has 22 columns, including the time, the magnitude, the position, the depth, the source and other information of each earthquake event. The detail explaination of each column is avaliable at [here](https://earthquake.usgs.gov/earthquakes/feed/v1.0/csv.php)."
   ]
  },
  {
   "cell_type": "markdown",
   "id": "hairy-digit",
   "metadata": {},
   "source": [
    "## Discover the Data\n",
    "\n",
    "To discover the dataset, we want to take a peek at the most straightforward and important information, that is the time, location and the magnitude of the events. The location will be presented in another interactive dashboard, thus in the following visulization, I'll make a quick plot about how the number of earthquake events change with time."
   ]
  },
  {
   "cell_type": "code",
   "execution_count": 8,
   "id": "rental-space",
   "metadata": {},
   "outputs": [],
   "source": [
    "# HIDDEN\n",
    "# 1. Data\n",
    "data_gdf['year'] = data_gdf['time'].apply(lambda x: pd.Timestamp(x, unit='ms').year) "
   ]
  },
  {
   "cell_type": "code",
   "execution_count": 9,
   "id": "circular-intensity",
   "metadata": {},
   "outputs": [
    {
     "data": {
      "application/vnd.jupyter.widget-view+json": {
       "model_id": "8bb6f4bb58b8425d8b2e4774f525aa22",
       "version_major": 2,
       "version_minor": 0
      },
      "text/plain": [
       "Figure(axes=[Axis(label='Year', label_offset='40px', scale=OrdinalScale(), tick_rotate=90, tick_style={'text-a…"
      ]
     },
     "metadata": {},
     "output_type": "display_data"
    }
   ],
   "source": [
    "# HIDDEN\n",
    "# 2. Scale\n",
    "x_sc = bqplot.OrdinalScale()\n",
    "y_sc = bqplot.LinearScale()\n",
    "\n",
    "# 3. Axis\n",
    "x_ax = bqplot.Axis(scale=x_sc, label='Year', \n",
    "                   tick_rotate=90, tick_style = {'text-anchor': 'start'}, label_offset='40px')\n",
    "y_ax = bqplot.Axis(scale=y_sc, label='Number of Earthquakes', orientation='vertical')\n",
    "\n",
    "# 4. Mark\n",
    "my_bar = bqplot.Bars(x=data_gdf.groupby('year')['year'].count().index,\n",
    "                     y=data_gdf.groupby('year')['year'].count(),\n",
    "                     display_legend=True,\n",
    "                     labels=['All'],\n",
    "                     scales={'x':x_sc, 'y':y_sc})\n",
    "\n",
    "\n",
    "# Another Layer of Mark\n",
    "severe_data = data_gdf.loc[data_gdf['mag']>=6]\n",
    "\n",
    "severe_bar = bqplot.Bars(x=severe_data.groupby('year')['year'].count().index,\n",
    "                         y=severe_data.groupby('year')['year'].count(),\n",
    "                         colors=['red'],\n",
    "                         display_legend=True,\n",
    "                         labels=['Magnitude Over 6.0'],\n",
    "                         name='Magnitude Over 6.0',\n",
    "                         scales={'x':x_sc, 'y':y_sc})\n",
    "\n",
    "# 4. Fig\n",
    "fig = bqplot.Figure(marks=[my_bar, severe_bar], \n",
    "                    axes=[x_ax, y_ax],\n",
    "                    legend_style={'stroke-width': 0}\n",
    "                   )\n",
    "display(fig)"
   ]
  },
  {
   "cell_type": "markdown",
   "id": "frank-property",
   "metadata": {},
   "source": [
    "Magnitude reflects the physical size of an earthquake. Although some other factors should be taken into account, magnitude is still a very imporatant scale to estimate the severity of an earthquake event. From the visulization, we might able to search for rules of the period of the earthquake occurance. However, the time span of 70 years is still too small to study the law in the field of geology. Scientists need more data to conduct more insightful and more persuasive researches.\n",
    "\n",
    "The strong earthquakes also have some research significance. Generally, we define the *strong* as the magnitude over 6.0. These earthquakes are also presented in the red bars."
   ]
  },
  {
   "cell_type": "markdown",
   "id": "linear-cisco",
   "metadata": {},
   "source": [
    "## Dashboard"
   ]
  },
  {
   "cell_type": "markdown",
   "id": "caring-register",
   "metadata": {},
   "source": [
    "The following dashboard presents the location of each earthquake event. To make the plot fancier, this project introduced the contextily package, which is able to draw the map for us as long as we provide the earth coordinates of a specific area."
   ]
  },
  {
   "cell_type": "code",
   "execution_count": 10,
   "id": "powerful-genome",
   "metadata": {},
   "outputs": [
    {
     "data": {
      "application/vnd.jupyter.widget-view+json": {
       "model_id": "920e957c2fbf427e81029747f9e91ee6",
       "version_major": 2,
       "version_minor": 0
      },
      "text/plain": [
       "Output()"
      ]
     },
     "metadata": {},
     "output_type": "display_data"
    },
    {
     "data": {
      "application/vnd.jupyter.widget-view+json": {
       "model_id": "6ece9207840249e0801e9be601ccd945",
       "version_major": 2,
       "version_minor": 0
      },
      "text/plain": [
       "Tab(children=(RadioButtons(description='Classifier:', options=('Magnitude', 'Event Type', 'Magnitude Type'), v…"
      ]
     },
     "metadata": {},
     "output_type": "display_data"
    }
   ],
   "source": [
    "# HIDDEN\n",
    "def my_plot(present_method, user_mag, xlim, ylim):\n",
    "    subset_gdf = data_gdf.loc[data_gdf['mag']>=user_mag]\n",
    "    \n",
    "    fig, ax = plt.subplots(figsize=(15,5))\n",
    "    \n",
    "    ax.set_xlim(xlim[0], xlim[1])\n",
    "    ax.set_ylim(ylim[0], ylim[1])\n",
    "    \n",
    "    if present_method == 'Magnitude':\n",
    "        subset_gdf.plot(column='mag', cmap='Reds', legend=True, ax=ax, alpha=0.5, edgecolor='k')\n",
    "    elif present_method == 'Event Type':\n",
    "        subset_gdf.plot(column='type', cmap='rainbow', legend=True, ax=ax, alpha=0.5, edgecolor='k')\n",
    "    elif present_method == 'Magnitude Type':\n",
    "        subset_gdf.plot(column='magType', cmap='rainbow', legend=True, ax=ax, alpha=0.5, edgecolor='k')\n",
    "\n",
    "    ctx.add_basemap(ax=ax, crs=data_gdf.crs)\n",
    "    plt.show()\n",
    "\n",
    "\n",
    "out = ipywidgets.interactive_output(my_plot, {'present_method': selection_box, \n",
    "                                           'user_mag': filter_box, \n",
    "                                           'xlim': xrange,\n",
    "                                           'ylim': yrange})\n",
    "\n",
    "display(out, tab)\n",
    "# Can't see the tab in html, try to use an HBox instead"
   ]
  },
  {
   "cell_type": "code",
   "execution_count": 11,
   "id": "australian-sarah",
   "metadata": {},
   "outputs": [
    {
     "data": {
      "application/vnd.jupyter.widget-view+json": {
       "model_id": "e98591e425cf4a2d83288337c1d64637",
       "version_major": 2,
       "version_minor": 0
      },
      "text/plain": [
       "HBox(children=(RadioButtons(description='Classifier:', options=('Magnitude', 'Event Type', 'Magnitude Type'), …"
      ]
     },
     "metadata": {},
     "output_type": "display_data"
    }
   ],
   "source": [
    "# HIDDEN\n",
    "ipywidgets.HBox([selection_box, filter_box, range_box])"
   ]
  },
  {
   "cell_type": "markdown",
   "id": "adjacent-lafayette",
   "metadata": {},
   "source": [
    "Please try discovering the dataset on the dashboard above! <br>\n",
    "* You can change the way to classify the records by selecting other options by selecting in the **Classifier** box.\n",
    "* You can set the lowest level of magnitude in the **Magnitude** box. The plot will show only the records whose magnitude is higher than the lowest level. \n",
    "* You can slide the **sliders** to set the range of latitude and longitude of shown in the plot.\n",
    "\n",
    "** This dashboard is not smart enough. Each time you interact with the dashboard, the backend program need to draw the whole map again. Thus, it might take a while getting the feedback when you open this project or playing with the widgets. Wait patiently, please!\n",
    "\n",
    "<br>\n",
    "\n",
    "How's the earthquakes distributed? It's obvious that most of the earthquakes are concentrated in the west coast and looks like a line. We can easily guess that this part is on a seismic belt. It is acutally a part of the [Ring of Fire](https://en.wikipedia.org/wiki/Ring_of_Fire)."
   ]
  },
  {
   "cell_type": "markdown",
   "id": "accepting-polyester",
   "metadata": {},
   "source": [
    "## Contextual Visualization"
   ]
  },
  {
   "cell_type": "markdown",
   "id": "wound-cambridge",
   "metadata": {},
   "source": [
    "![World Earthquake Report for April 2021](https://volcanodiscovery.de/uploads/pics/quakes-4-2021.jpg)\n",
    "\n",
    "Some online reports present the earthquake data in their specical way. Above is a monthly earthquake report published on [volcanodiscovery.com](https://www.volcanodiscovery.com/). It's about the world earthquake event happened in April, 2021. Similar to our dashboard, this visualization also presents the location data, but focuses on the data over the world. Thus, they applies a different projection, the equal earth projection for their map. \n",
    "\n",
    "Beside the location, this visualization also labeled the magnitude for each point and colored them according to their depth.\n",
    "<br>\n",
    "<br>"
   ]
  },
  {
   "cell_type": "markdown",
   "id": "crude-degree",
   "metadata": {},
   "source": [
    "![title](Major_Earthquakes.png)\n",
    "\n",
    "This is another interactive online visualization about earthquake data. It's also from [volcanodiscovery.com](https://www.volcanodiscovery.com/). <br>\n",
    "You can get access to the sources page [here](https://www.volcanodiscovery.com/earthquakes/major.html) and try to play with it by yourself.\n",
    "\n",
    "This visualization is based on a smarter tool--[leaflet](https://leafletjs.com/plugins.html). You can interact with the map more smoothly. It also provides a magnitude filter for the users. You can zoom in, zoom out the map and also see the details of the data point by hovering mouse on and click it. It's the ideal visualization this project want to achieve."
   ]
  },
  {
   "cell_type": "markdown",
   "id": "animal-merchant",
   "metadata": {},
   "source": [
    "## Reference\n",
    "<ol>\n",
    "  <li>United States Geological Survey - <a href=\"https://earthquake.usgs.gov/earthquakes/search/\">Search Earthquake Catalog</a></li>\n",
    "  <li>Volcano Discovery - <a href=\"https://www.volcanodiscovery.com/earthquake/news.html\">World Earthquake Report</a></li>\n",
    "  <li>Volcano Discovery - <a href=\"https://www.volcanodiscovery.com/earthquakes/major.html\">Big earthquakes</a></li>\n",
    "  <li>Visualization - Nbinteract\n",
    "</ol>"
   ]
  },
  {
   "cell_type": "code",
   "execution_count": null,
   "id": "polyphonic-climate",
   "metadata": {},
   "outputs": [],
   "source": []
  }
 ],
 "metadata": {
  "kernelspec": {
   "display_name": "Python 3",
   "language": "python",
   "name": "python3"
  },
  "language_info": {
   "codemirror_mode": {
    "name": "ipython",
    "version": 3
   },
   "file_extension": ".py",
   "mimetype": "text/x-python",
   "name": "python",
   "nbconvert_exporter": "python",
   "pygments_lexer": "ipython3",
   "version": "3.7.10"
  }
 },
 "nbformat": 4,
 "nbformat_minor": 5
}
